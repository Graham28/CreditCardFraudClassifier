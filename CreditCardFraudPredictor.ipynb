{
  "nbformat": 4,
  "nbformat_minor": 0,
  "metadata": {
    "colab": {
      "name": "CreditCardFraudPredictor.ipynb",
      "provenance": [],
      "collapsed_sections": [],
      "authorship_tag": "ABX9TyMMRCXLUCVmNpG97O6ozhyb",
      "include_colab_link": true
    },
    "kernelspec": {
      "name": "python3",
      "display_name": "Python 3"
    },
    "language_info": {
      "name": "python"
    }
  },
  "cells": [
    {
      "cell_type": "markdown",
      "metadata": {
        "id": "view-in-github",
        "colab_type": "text"
      },
      "source": [
        "<a href=\"https://colab.research.google.com/github/Graham28/CreditCardFraudClassifier/blob/main/CreditCardFraudPredictor.ipynb\" target=\"_parent\"><img src=\"https://colab.research.google.com/assets/colab-badge.svg\" alt=\"Open In Colab\"/></a>"
      ]
    },
    {
      "cell_type": "code",
      "metadata": {
        "colab": {
          "base_uri": "https://localhost:8080/"
        },
        "id": "g5vj7PKfoHMF",
        "outputId": "23c1d836-a37c-4cdf-9d0b-dc247b4cbdf2"
      },
      "source": [
        "!pip3 install pandas\n",
        "!pip3 install sklearn\n",
        "!pip3 install numpy"
      ],
      "execution_count": null,
      "outputs": [
        {
          "output_type": "stream",
          "text": [
            "Requirement already satisfied: pandas in /usr/local/lib/python3.7/dist-packages (1.1.5)\n",
            "Requirement already satisfied: pytz>=2017.2 in /usr/local/lib/python3.7/dist-packages (from pandas) (2018.9)\n",
            "Requirement already satisfied: python-dateutil>=2.7.3 in /usr/local/lib/python3.7/dist-packages (from pandas) (2.8.1)\n",
            "Requirement already satisfied: numpy>=1.15.4 in /usr/local/lib/python3.7/dist-packages (from pandas) (1.19.5)\n",
            "Requirement already satisfied: six>=1.5 in /usr/local/lib/python3.7/dist-packages (from python-dateutil>=2.7.3->pandas) (1.15.0)\n",
            "Requirement already satisfied: sklearn in /usr/local/lib/python3.7/dist-packages (0.0)\n",
            "Requirement already satisfied: scikit-learn in /usr/local/lib/python3.7/dist-packages (from sklearn) (0.22.2.post1)\n",
            "Requirement already satisfied: scipy>=0.17.0 in /usr/local/lib/python3.7/dist-packages (from scikit-learn->sklearn) (1.4.1)\n",
            "Requirement already satisfied: joblib>=0.11 in /usr/local/lib/python3.7/dist-packages (from scikit-learn->sklearn) (1.0.1)\n",
            "Requirement already satisfied: numpy>=1.11.0 in /usr/local/lib/python3.7/dist-packages (from scikit-learn->sklearn) (1.19.5)\n",
            "Requirement already satisfied: numpy in /usr/local/lib/python3.7/dist-packages (1.19.5)\n"
          ],
          "name": "stdout"
        }
      ]
    },
    {
      "cell_type": "code",
      "metadata": {
        "id": "A8831c3toXIe"
      },
      "source": [
        "import pandas as pd\n",
        "import tensorflow as tf\n",
        "from tensorflow import keras\n",
        "from sklearn.model_selection import train_test_split\n",
        "import numpy as np"
      ],
      "execution_count": null,
      "outputs": []
    },
    {
      "cell_type": "markdown",
      "metadata": {
        "id": "bZsxmnbHF8fZ"
      },
      "source": [
        "# Dataset has many unknown variables\n",
        "# Original dataset can be found at \n",
        "# https://data.world/vlad/credit-card-fraud-detection"
      ]
    },
    {
      "cell_type": "code",
      "metadata": {
        "id": "DbBc7fISohpe"
      },
      "source": [
        "df = pd.read_csv('CreditCardFraud.csv')\n",
        "properties = list(df.columns.values)\n",
        "properties.remove('Class')\n",
        "X = df[properties]\n",
        "y = df['Class']"
      ],
      "execution_count": 130,
      "outputs": []
    },
    {
      "cell_type": "markdown",
      "metadata": {
        "id": "AioweA7pGXRf"
      },
      "source": [
        "# Build and train model, leaving 10% of dataset for testing"
      ]
    },
    {
      "cell_type": "code",
      "metadata": {
        "colab": {
          "base_uri": "https://localhost:8080/"
        },
        "id": "yeob2KDYo1GR",
        "outputId": "83a9d59f-e837-4f7e-8cda-9c79e25eaa60"
      },
      "source": [
        "X_train, X_test, y_train, y_test = train_test_split(X, y, test_size=0.1, random_state=0)\n",
        "\n",
        "model = keras.Sequential([\n",
        "    keras.layers.Flatten(input_shape=(30,)),\n",
        "    keras.layers.Dense(24, activation=tf.nn.relu),\n",
        "\t  keras.layers.Dense(24, activation=tf.nn.relu),\n",
        "    keras.layers.Dense(1, activation=tf.nn.sigmoid),\n",
        "])\n",
        "\n",
        "model.compile(optimizer='adam',\n",
        "              loss='binary_crossentropy',\n",
        "              metrics=['accuracy'])\n",
        "\n",
        "model.fit(X_train, y_train, epochs=10, batch_size=120)"
      ],
      "execution_count": null,
      "outputs": [
        {
          "output_type": "stream",
          "text": [
            "Epoch 1/10\n",
            "2137/2137 [==============================] - 4s 2ms/step - loss: 74.4546 - accuracy: 0.9886\n",
            "Epoch 2/10\n",
            "2137/2137 [==============================] - 4s 2ms/step - loss: 7.0284 - accuracy: 0.9967\n",
            "Epoch 3/10\n",
            "2137/2137 [==============================] - 4s 2ms/step - loss: 6.2694 - accuracy: 0.9960\n",
            "Epoch 4/10\n",
            "2137/2137 [==============================] - 4s 2ms/step - loss: 5.1878 - accuracy: 0.9962\n",
            "Epoch 5/10\n",
            "2137/2137 [==============================] - 4s 2ms/step - loss: 4.9851 - accuracy: 0.9958\n",
            "Epoch 6/10\n",
            "2137/2137 [==============================] - 4s 2ms/step - loss: 2.7718 - accuracy: 0.9966\n",
            "Epoch 7/10\n",
            "2137/2137 [==============================] - 4s 2ms/step - loss: 2.3108 - accuracy: 0.9965\n",
            "Epoch 8/10\n",
            "2137/2137 [==============================] - 4s 2ms/step - loss: 1.7099 - accuracy: 0.9966\n",
            "Epoch 9/10\n",
            "2137/2137 [==============================] - 4s 2ms/step - loss: 2.6396 - accuracy: 0.9969\n",
            "Epoch 10/10\n",
            "2137/2137 [==============================] - 4s 2ms/step - loss: 1.2301 - accuracy: 0.9970\n"
          ],
          "name": "stdout"
        },
        {
          "output_type": "execute_result",
          "data": {
            "text/plain": [
              "<tensorflow.python.keras.callbacks.History at 0x7fdd5d0eed90>"
            ]
          },
          "metadata": {
            "tags": []
          },
          "execution_count": 116
        }
      ]
    },
    {
      "cell_type": "markdown",
      "metadata": {
        "id": "V5-UFG55Gtfs"
      },
      "source": [
        "# Below we will sample from test dataset to see how the model performs under a positive(fraud) reading or a negative(not fraud) reading."
      ]
    },
    {
      "cell_type": "code",
      "metadata": {
        "id": "aTOkq88uqPG0"
      },
      "source": [
        "predictions_positive = []\n",
        "for i in range(len(y_test)):\n",
        "  if y_test.iloc[i] ==1.0:\n",
        "    pred = model.predict([[j for j in X_test.iloc[i]]],batch_size=1)\n",
        "    predictions_positive.append(pred[0][0])\n",
        "    if len(predictions_positive) == 10:\n",
        "      break"
      ],
      "execution_count": null,
      "outputs": []
    },
    {
      "cell_type": "code",
      "metadata": {
        "id": "kdOurrfRqR5U"
      },
      "source": [
        "predictions_negative = []\n",
        "for i in range(len(y_test)):\n",
        "  if y_test.iloc[i] ==0.0:\n",
        "    pred = model.predict([[j for j in X_test.iloc[i]]],batch_size=1)\n",
        "    predictions_negative.append(pred[0][0])\n",
        "    if len(predictions_negative) == 10:\n",
        "      break"
      ],
      "execution_count": null,
      "outputs": []
    },
    {
      "cell_type": "code",
      "metadata": {
        "colab": {
          "base_uri": "https://localhost:8080/"
        },
        "id": "0EEf5UUhsFJw",
        "outputId": "1905e46d-7304-4622-c242-f5d798760ead"
      },
      "source": [
        "predictions_positive"
      ],
      "execution_count": null,
      "outputs": [
        {
          "output_type": "execute_result",
          "data": {
            "text/plain": [
              "[1.0,\n",
              " 0.99999964,\n",
              " 1.0,\n",
              " 3.0291483e-20,\n",
              " 3.1527522e-18,\n",
              " 3.9491976e-11,\n",
              " 1.0,\n",
              " 0.0,\n",
              " 1.0,\n",
              " 1.0]"
            ]
          },
          "metadata": {
            "tags": []
          },
          "execution_count": 126
        }
      ]
    },
    {
      "cell_type": "code",
      "metadata": {
        "id": "n713hsMvL4kK"
      },
      "source": [
        "from google.colab import drive\n",
        "drive.mount('/content/drive')"
      ],
      "execution_count": null,
      "outputs": []
    },
    {
      "cell_type": "code",
      "metadata": {
        "colab": {
          "base_uri": "https://localhost:8080/"
        },
        "id": "gKt6JykxE-Lg",
        "outputId": "f9c394e9-a1f6-4c17-aa4a-0949013521ed"
      },
      "source": [
        "predictions_negative"
      ],
      "execution_count": null,
      "outputs": [
        {
          "output_type": "execute_result",
          "data": {
            "text/plain": [
              "[1.4707657e-17,\n",
              " 1.2384639e-21,\n",
              " 4.5487405e-23,\n",
              " 3.6907995e-08,\n",
              " 0.0015912354,\n",
              " 4.06342e-08,\n",
              " 1.7352942e-17,\n",
              " 2.5869195e-08,\n",
              " 7.4125615e-18,\n",
              " 3.5687436e-10]"
            ]
          },
          "metadata": {
            "tags": []
          },
          "execution_count": 127
        }
      ]
    },
    {
      "cell_type": "markdown",
      "metadata": {
        "id": "4vrFEPwcHGRl"
      },
      "source": [
        "# We can see from above that the model predicts most but not all of the positive(fraud) transactions."
      ]
    }
  ]
}